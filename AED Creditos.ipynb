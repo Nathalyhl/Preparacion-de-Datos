{
 "cells": [
  {
   "cell_type": "markdown",
   "metadata": {},
   "source": [
    "# **Presentado por:** Alejandro Perez y Nathaly Henao"
   ]
  },
  {
   "cell_type": "markdown",
   "metadata": {},
   "source": [
    "# **1. Contexto del Análisis**\n",
    "\n",
    "Créditos Parra y Compañía es una empresa en Colombia, con sede principal en Leticia. Opera en comercio de artículos electrónicos, electrodomésticos, gasodomesticos muebles y equipos de iluminacion en establecimientos especializados. Actualmente, la empresa está iniciando una transición hacia la analítica de datos para mejorar el control y la eficiencia en sus procesos."
   ]
  },
  {
   "cell_type": "markdown",
   "metadata": {},
   "source": [
    "# **2. Pregunta SMART:**\n",
    "\n",
    "Uno de los principales problemas identificados es el alto porcentaje de cartera vencida, que promedia el 46%. Este problema puede ser abordado mediante técnicas de ciencia de datos e inteligencia artificial (IA), \n",
    "que permitirán organizar la información, descubrir patrones, visualizar datos y predecir riesgos y oportunidades, facilitando la toma de decisiones y la automatización de procesos\n",
    "\n",
    "*¿Cuáles son los clientes que tienen una alta probabilidad de continuar o iniciar con cartera vencida en los meses restantes del 2024?*\n"
   ]
  },
  {
   "cell_type": "markdown",
   "metadata": {},
   "source": [
    "# **3. Diccionario de datos:**\n",
    "\n",
    "**3. Diccionario de Datos:**\n",
    "\n",
    "| Variable   | Descripción                                                                  |\n",
    "|------------|------------------------------------------------------------------------------|\n",
    "| Código     | NIT o identificar del cliente                                                |\n",
    "| Documento  | Identificador de la factura                                                  |\n",
    "| fec_ela    | Fecha de elaboración de la factura                                           |\n",
    "| fec_vcto   | Fecha de vencimiento de la factura                                           |\n",
    "| dias_vcto  | Días de vencimiento de la factura                                            |\n",
    "| sin_vencer | Valor monetario que no se ha vencido de la factura                           |\n",
    "| _01_30     | Edad de la cartera que presenta vencimiento entre 01_30 días                 |\n",
    "| _61_90     | Edad de la cartera que presenta vencimiento entre 61_90 días                 |\n",
    "| mas_de_90  | Edad de la cartera que presenta vencimiento >90 días                         |\n",
    "| total      | Total valor de la deuda                                                      |\n",
    "\n"
   ]
  },
  {
   "cell_type": "code",
   "execution_count": 1,
   "metadata": {},
   "outputs": [],
   "source": [
    "#Importar librerias \n",
    "\n",
    "import pandas as pd\n",
    "from datetime import datetime\n",
    "import numpy as np\n",
    "from datetime import datetime\n",
    "import os\n",
    "\n",
    "import matplotlib.pyplot as plt\n",
    "import seaborn as sns\n",
    "import matplotlib.ticker as ticker"
   ]
  },
  {
   "cell_type": "code",
   "execution_count": 2,
   "metadata": {},
   "outputs": [
    {
     "name": "stdout",
     "output_type": "stream",
     "text": [
      "       codigo                            nombre   cu     documento  \\\n",
      "0   900692604  AAA MAQUINARIAS & MATERIALES SAS  1.0  FC-003657-01   \n",
      "1         NaN                               NaN  NaN           NaN   \n",
      "2  1121214895        ABOU ABBAS ABOU HAMIA OMAR  1.0  FE-012956-06   \n",
      "3         NaN                               NaN  NaN           NaN   \n",
      "4    15877276              ACHO ARAUJO DIOMEDES  1.0  FE-013145-05   \n",
      "\n",
      "       fec_ela     fec_vcto  dias_vcto  sin_vencer  _01_30  _31_60  _61_90  \\\n",
      "0  2022-DIC-31  2020-FEB-28       1096           0       0       0       0   \n",
      "1          NaN          NaN          0           0       0       0       0   \n",
      "2  2022-DIC-31  2023-MAR-28        -28      201000       0       0       0   \n",
      "3          NaN          NaN          0           0       0       0       0   \n",
      "4  2022-DIC-31  2023-MAR-10        -10      260000       0       0       0   \n",
      "\n",
      "   mas_de_90  vend_tmp    total   mes_año fecha_completa  \n",
      "0    2128950       NaN  2128950  feb 2023     2023-02-28  \n",
      "1          0       NaN        0  feb 2023     2023-02-28  \n",
      "2          0       NaN   201000  feb 2023     2023-02-28  \n",
      "3          0       NaN        0  feb 2023     2023-02-28  \n",
      "4          0       NaN        0  feb 2023     2023-02-28  \n"
     ]
    }
   ],
   "source": [
    "# Ruta de la carpeta que contiene los archivos\n",
    "folder_path = r'D:\\nhenao\\OneDrive - CAMARA DE COMERCIO DE CALI\\Documentos\\Maestria\\Primer semestre\\AED\\Creditos'\n",
    "\n",
    "# Listar todos los archivos .xlsx en la carpeta\n",
    "file_list = [f for f in os.listdir(folder_path) if f.endswith('.xlsx')]\n",
    "\n",
    "# Crear una lista para almacenar los DataFrames\n",
    "dfs = []\n",
    "\n",
    "# Función para extraer el mes, año y la fecha completa del nombre del archivo\n",
    "def extract_date_from_filename(filename):\n",
    "    # Suponiendo que el formato es \"Proyección de Vencimientos DDMMYYYY.xlsx\"\n",
    "    base_name = os.path.splitext(filename)[0]\n",
    "    date_str = base_name.split()[-1]  # Extraer \"DDMMYYYY\"\n",
    "    if len(date_str) == 8:  # Verificar que la longitud sea correcta\n",
    "        try:\n",
    "            # Convertir la cadena a un objeto datetime\n",
    "            date_obj = datetime.strptime(date_str, '%d%m%Y')\n",
    "            # Formatear a \"mes año\" (ej. \"feb 2023\")\n",
    "            month_year = date_obj.strftime('%b %Y').lower()  # %b es el mes abreviado en inglés\n",
    "            # Obtener la fecha completa en formato 'YYYY-MM-DD'\n",
    "            full_date = date_obj.strftime('%Y-%m-%d')\n",
    "            return month_year, full_date\n",
    "        except ValueError:\n",
    "            return None, None\n",
    "    return None, None\n",
    "\n",
    "# Leer cada archivo y agregar su DataFrame a la lista\n",
    "for file_name in file_list:\n",
    "    file_path = os.path.join(folder_path, file_name)\n",
    "    df = pd.read_excel(file_path)\n",
    "    \n",
    "    # Extraer el mes y año y la fecha completa del nombre del archivo\n",
    "    month_year, full_date = extract_date_from_filename(file_name)\n",
    "    if month_year and full_date:\n",
    "        df['mes_año'] = month_year  # Agregar la columna con mes y año\n",
    "        df['fecha_completa'] = full_date  # Agregar la columna con la fecha completa\n",
    "    \n",
    "    dfs.append(df)\n",
    "\n",
    "# Concatenar todos los DataFrames en uno solo\n",
    "df = pd.concat(dfs, ignore_index=True)\n",
    "\n",
    "# Mostrar las primeras filas del DataFrame combinado\n",
    "print(df.head(5))"
   ]
  },
  {
   "cell_type": "code",
   "execution_count": 3,
   "metadata": {},
   "outputs": [
    {
     "name": "stdout",
     "output_type": "stream",
     "text": [
      "       codigo                            nombre   cu     documento  \\\n",
      "0   900692604  AAA MAQUINARIAS & MATERIALES SAS  1.0  FC-003657-01   \n",
      "1         NaN                               NaN  NaN           NaN   \n",
      "2  1121214895        ABOU ABBAS ABOU HAMIA OMAR  1.0  FE-012956-06   \n",
      "3         NaN                               NaN  NaN           NaN   \n",
      "4    15877276              ACHO ARAUJO DIOMEDES  1.0  FE-013145-05   \n",
      "\n",
      "       fec_ela     fec_vcto  dias_vcto  sin_vencer  _01_30  _31_60  _61_90  \\\n",
      "0  2022-DIC-31  2020-FEB-28       1096           0       0       0       0   \n",
      "1          NaN          NaN          0           0       0       0       0   \n",
      "2  2022-DIC-31  2023-MAR-28        -28      201000       0       0       0   \n",
      "3          NaN          NaN          0           0       0       0       0   \n",
      "4  2022-DIC-31  2023-MAR-10        -10      260000       0       0       0   \n",
      "\n",
      "   mas_de_90  vend_tmp    total   mes_año fecha_completa  \n",
      "0    2128950       NaN  2128950  feb 2023     2023-02-28  \n",
      "1          0       NaN        0  feb 2023     2023-02-28  \n",
      "2          0       NaN   201000  feb 2023     2023-02-28  \n",
      "3          0       NaN        0  feb 2023     2023-02-28  \n",
      "4          0       NaN        0  feb 2023     2023-02-28  \n"
     ]
    }
   ],
   "source": [
    "# Mostrar las primeras filas del DataFrame combinado\n",
    "print(df.head(5))"
   ]
  },
  {
   "cell_type": "code",
   "execution_count": 4,
   "metadata": {},
   "outputs": [
    {
     "name": "stdout",
     "output_type": "stream",
     "text": [
      "      codigo                               nombre  cu documento fec_ela  \\\n",
      "29803    NaN                                  NaN NaN       NaN     NaN   \n",
      "29804    NaN  Empresa:CREDITOS PARRA Y CIA S.A.S. NaN       NaN     NaN   \n",
      "29805    NaN  Cuenta:130515   Cartera de clientes NaN       NaN     NaN   \n",
      "29806    NaN                              General NaN       NaN     NaN   \n",
      "29807    NaN               2024.08.06 03:05:24 PM NaN       NaN     NaN   \n",
      "\n",
      "      fec_vcto  dias_vcto  sin_vencer  _01_30  _31_60  _61_90  mas_de_90  \\\n",
      "29803      NaN          0           0       0       0       0          0   \n",
      "29804      NaN          0           0       0       0       0          0   \n",
      "29805      NaN          0           0       0       0       0          0   \n",
      "29806      NaN          0           0       0       0       0          0   \n",
      "29807      NaN          0           0       0       0       0          0   \n",
      "\n",
      "       vend_tmp  total   mes_año fecha_completa  \n",
      "29803       NaN      0  dec 2023     2023-12-31  \n",
      "29804       NaN      0  dec 2023     2023-12-31  \n",
      "29805       NaN      0  dec 2023     2023-12-31  \n",
      "29806       NaN      0  dec 2023     2023-12-31  \n",
      "29807       NaN      0  dec 2023     2023-12-31  \n"
     ]
    }
   ],
   "source": [
    "# Mostrar las últimas filas filas del DataFrame combinado\n",
    "print(df.tail(5))"
   ]
  },
  {
   "cell_type": "markdown",
   "metadata": {},
   "source": [
    "# **4.Preparación de los datos:**"
   ]
  },
  {
   "cell_type": "markdown",
   "metadata": {},
   "source": [
    "Se arreglan unos tipos de datos, dado que más adelante necesitaremos sólo las variables númericas para el gráfico de correlación."
   ]
  },
  {
   "cell_type": "code",
   "execution_count": 5,
   "metadata": {},
   "outputs": [],
   "source": [
    "# Corregir los tipos de datos\n",
    "df['codigo'] = df['codigo'].astype(str)\n",
    "df['nombre'] = df['nombre'].astype(str)\n",
    "df['documento'] = df['documento'].astype(str)"
   ]
  },
  {
   "cell_type": "markdown",
   "metadata": {},
   "source": [
    "Revisamos el tipo de dato, la cantidad de registros presentes en el dataframe"
   ]
  },
  {
   "cell_type": "code",
   "execution_count": 6,
   "metadata": {},
   "outputs": [
    {
     "name": "stdout",
     "output_type": "stream",
     "text": [
      "<class 'pandas.core.frame.DataFrame'>\n",
      "RangeIndex: 29808 entries, 0 to 29807\n",
      "Data columns (total 16 columns):\n",
      " #   Column          Non-Null Count  Dtype  \n",
      "---  ------          --------------  -----  \n",
      " 0   codigo          29808 non-null  object \n",
      " 1   nombre          29808 non-null  object \n",
      " 2   cu              23886 non-null  float64\n",
      " 3   documento       29808 non-null  object \n",
      " 4   fec_ela         23886 non-null  object \n",
      " 5   fec_vcto        23886 non-null  object \n",
      " 6   dias_vcto       29808 non-null  int64  \n",
      " 7   sin_vencer      29808 non-null  int64  \n",
      " 8   _01_30          29808 non-null  int64  \n",
      " 9   _31_60          29808 non-null  int64  \n",
      " 10  _61_90          29808 non-null  int64  \n",
      " 11  mas_de_90       29808 non-null  int64  \n",
      " 12  vend_tmp        14298 non-null  float64\n",
      " 13  total           29808 non-null  int64  \n",
      " 14  mes_año         29808 non-null  object \n",
      " 15  fecha_completa  29808 non-null  object \n",
      "dtypes: float64(2), int64(7), object(7)\n",
      "memory usage: 3.6+ MB\n"
     ]
    }
   ],
   "source": [
    "# Visualizar estructura del dataframe\n",
    "df.info()"
   ]
  },
  {
   "cell_type": "markdown",
   "metadata": {},
   "source": [
    "Eliminamos columnas innecesarias"
   ]
  },
  {
   "cell_type": "code",
   "execution_count": 7,
   "metadata": {},
   "outputs": [],
   "source": [
    "# Eliminar columnas innecesarias\n",
    "df = df.drop(columns=['nombre', 'cu', 'vend_tmp'], index=1)"
   ]
  },
  {
   "cell_type": "markdown",
   "metadata": {},
   "source": [
    "Verificamos los valores nulos presentes en el dataframe, encontramos que son varíos y se deben a la estructura de documento generada por el ERP."
   ]
  },
  {
   "cell_type": "code",
   "execution_count": 8,
   "metadata": {},
   "outputs": [
    {
     "data": {
      "text/plain": [
       "codigo               0\n",
       "documento            0\n",
       "fec_ela           5921\n",
       "fec_vcto          5921\n",
       "dias_vcto            0\n",
       "sin_vencer           0\n",
       "_01_30               0\n",
       "_31_60               0\n",
       "_61_90               0\n",
       "mas_de_90            0\n",
       "total                0\n",
       "mes_año              0\n",
       "fecha_completa       0\n",
       "dtype: int64"
      ]
     },
     "execution_count": 8,
     "metadata": {},
     "output_type": "execute_result"
    }
   ],
   "source": [
    "# Ver na por columna\n",
    "df.isna().sum()"
   ]
  },
  {
   "cell_type": "code",
   "execution_count": 9,
   "metadata": {},
   "outputs": [],
   "source": [
    "# Eliminar n/a\n",
    "df = df.dropna()"
   ]
  },
  {
   "cell_type": "code",
   "execution_count": 10,
   "metadata": {},
   "outputs": [
    {
     "data": {
      "text/plain": [
       "codigo            0\n",
       "documento         0\n",
       "fec_ela           0\n",
       "fec_vcto          0\n",
       "dias_vcto         0\n",
       "sin_vencer        0\n",
       "_01_30            0\n",
       "_31_60            0\n",
       "_61_90            0\n",
       "mas_de_90         0\n",
       "total             0\n",
       "mes_año           0\n",
       "fecha_completa    0\n",
       "dtype: int64"
      ]
     },
     "execution_count": 10,
     "metadata": {},
     "output_type": "execute_result"
    }
   ],
   "source": [
    "# Ver na por columna\n",
    "df.isna().sum()"
   ]
  },
  {
   "cell_type": "markdown",
   "metadata": {},
   "source": [
    "De igual forma, el formato que viene del ERP no permite trabajar con los valores de fecha, por lo tanto, se hace un arreglo para poder trabajar con las columnas de fecha, además se crea una variable sintetica para revisar valores en donde la fecha de elaboración sea mayor que la fecha de vencimiento, técnicamente esto no debería ser posible, pero por temas de gobernanza de datos no existente, ocurren estos casos."
   ]
  },
  {
   "cell_type": "code",
   "execution_count": 11,
   "metadata": {},
   "outputs": [
    {
     "data": {
      "text/plain": [
       "0    17984\n",
       "1     5902\n",
       "Name: val_fec, dtype: int64"
      ]
     },
     "execution_count": 11,
     "metadata": {},
     "output_type": "execute_result"
    }
   ],
   "source": [
    "# Primero, crea un diccionario de los meses en español\n",
    "\n",
    "meses_esp = {'ENE': '01', 'FEB': '02', 'MAR': '03', 'ABR': '04', 'MAY': '05', \n",
    "             'JUN': '06', 'JUL': '07', 'AGO': '08', 'SEP': '09', 'OCT': '10', \n",
    "             'NOV': '11', 'DIC': '12'}\n",
    "\n",
    "# Función para reemplazar el mes en la cadena de fecha\n",
    "def convertir_fecha(fecha):\n",
    "    for mes, num in meses_esp.items():\n",
    "        if mes in fecha.upper():\n",
    "            fecha = fecha.upper().replace(mes, num)\n",
    "    return fecha\n",
    "\n",
    "# Aplicar la función a las columnas de fecha antes de convertirlas a datetime\n",
    "df['fec_ela'] = df['fec_ela'].apply(convertir_fecha)\n",
    "df['fec_vcto'] = df['fec_vcto'].apply(convertir_fecha)\n",
    "\n",
    "# Ahora convierte a datetime usando el formato 'YYYY-MM-DD'\n",
    "df['fec_ela'] = pd.to_datetime(df['fec_ela'], format='%Y-%m-%d')\n",
    "df['fec_vcto'] = pd.to_datetime(df['fec_vcto'], format='%Y-%m-%d')\n",
    "df['fecha_completa'] = pd.to_datetime(df['fecha_completa'], format='%Y-%m-%d')\n",
    "\n",
    "# Crear la variable 'val_fec' comparando 'fec_ela' y 'fec_vcto'\n",
    "df['val_fec'] = np.where(df['fec_ela'] > df['fec_vcto'], 1, 0)\n",
    "\n",
    "# Validar fechas\n",
    "df['val_fec'].value_counts()"
   ]
  },
  {
   "cell_type": "markdown",
   "metadata": {},
   "source": [
    "Imputaremos las fechas de elaboración con la media del promedio de días entre las fecha de elaboración y la fecha de vencimiento, acá no tenemos en cuenta los valores mayores en fecha de elaboración, puesto que afectarían directamente el cálculo, depués de conseguir el valor, lo imputamos en la fecha de elaboración, tomando la fecha de venccimiento y restandole los 184 días promedio, esto tiene mucho sentido, ya que nos dice que los prestamos en general se sacan apróximadamente por 6 meses."
   ]
  },
  {
   "cell_type": "code",
   "execution_count": 12,
   "metadata": {},
   "outputs": [
    {
     "name": "stdout",
     "output_type": "stream",
     "text": [
      "184.6253453906054\n"
     ]
    }
   ],
   "source": [
    "# Calcular la diferencia en días entre 'fec_vcto' y 'fec_ela'\n",
    "dif_days = np.where((df['fec_vcto'] - df['fec_ela']).dt.days>0,(df['fec_vcto'] - df['fec_ela']).dt.days,0)\n",
    "\n",
    "# Calcular la media de la diferencia en días\n",
    "df_mean = np.mean(dif_days)\n",
    "\n",
    "print(df_mean)"
   ]
  },
  {
   "cell_type": "code",
   "execution_count": 13,
   "metadata": {},
   "outputs": [
    {
     "data": {
      "text/plain": [
       "0    23886\n",
       "Name: val_fec, dtype: int64"
      ]
     },
     "execution_count": 13,
     "metadata": {},
     "output_type": "execute_result"
    }
   ],
   "source": [
    "# Imputar los valores tipo 1 en 'fec_ela' restando 30 días de 'fec_vcto' donde 'val_fec' es 1\n",
    "df['fec_ela'] = np.where(df['val_fec'] == 1, df['fec_vcto'] - pd.Timedelta(days=184), df['fec_ela'])\n",
    "\n",
    "# Crear la variable 'val_fec' comparando 'fec_ela' y 'fec_vcto'\n",
    "df['val_fec'] = np.where(df['fec_ela'] > df['fec_vcto'], 1, 0)\n",
    "\n",
    "# Validar fechas\n",
    "df['val_fec'].value_counts()"
   ]
  },
  {
   "cell_type": "markdown",
   "metadata": {},
   "source": [
    "Al tener variables de edades de cartera es muy probable que una dependa de otra y no logremos tener relaciones fuertes entre variables para poder en algún momento predecir que puede pasar con un crédito, por lo tanto, se crean variables sinteticas a partir de las ya existentes para intentar identificar comportamientos."
   ]
  },
  {
   "cell_type": "code",
   "execution_count": 20,
   "metadata": {},
   "outputs": [
    {
     "data": {
      "text/html": [
       "<div>\n",
       "<style scoped>\n",
       "    .dataframe tbody tr th:only-of-type {\n",
       "        vertical-align: middle;\n",
       "    }\n",
       "\n",
       "    .dataframe tbody tr th {\n",
       "        vertical-align: top;\n",
       "    }\n",
       "\n",
       "    .dataframe thead th {\n",
       "        text-align: right;\n",
       "    }\n",
       "</style>\n",
       "<table border=\"1\" class=\"dataframe\">\n",
       "  <thead>\n",
       "    <tr style=\"text-align: right;\">\n",
       "      <th></th>\n",
       "      <th>codigo</th>\n",
       "      <th>documento</th>\n",
       "      <th>fec_ela</th>\n",
       "      <th>fec_vcto</th>\n",
       "      <th>dias_vcto</th>\n",
       "      <th>sin_vencer</th>\n",
       "      <th>_01_30</th>\n",
       "      <th>_31_60</th>\n",
       "      <th>_61_90</th>\n",
       "      <th>mas_de_90</th>\n",
       "      <th>total</th>\n",
       "      <th>mes_año</th>\n",
       "      <th>fecha_completa</th>\n",
       "      <th>val_fec</th>\n",
       "      <th>Edad_obligacion</th>\n",
       "      <th>%_vencido</th>\n",
       "    </tr>\n",
       "  </thead>\n",
       "  <tbody>\n",
       "    <tr>\n",
       "      <th>0</th>\n",
       "      <td>900692604</td>\n",
       "      <td>FC-003657-01</td>\n",
       "      <td>2019-08-28</td>\n",
       "      <td>2020-02-28</td>\n",
       "      <td>1096</td>\n",
       "      <td>0</td>\n",
       "      <td>0</td>\n",
       "      <td>0</td>\n",
       "      <td>0</td>\n",
       "      <td>2128950</td>\n",
       "      <td>2128950</td>\n",
       "      <td>feb 2023</td>\n",
       "      <td>2023-02-28</td>\n",
       "      <td>0</td>\n",
       "      <td>1280</td>\n",
       "      <td>100.0</td>\n",
       "    </tr>\n",
       "    <tr>\n",
       "      <th>2</th>\n",
       "      <td>1121214895</td>\n",
       "      <td>FE-012956-06</td>\n",
       "      <td>2022-12-31</td>\n",
       "      <td>2023-03-28</td>\n",
       "      <td>-28</td>\n",
       "      <td>201000</td>\n",
       "      <td>0</td>\n",
       "      <td>0</td>\n",
       "      <td>0</td>\n",
       "      <td>0</td>\n",
       "      <td>201000</td>\n",
       "      <td>feb 2023</td>\n",
       "      <td>2023-02-28</td>\n",
       "      <td>0</td>\n",
       "      <td>59</td>\n",
       "      <td>0.0</td>\n",
       "    </tr>\n",
       "    <tr>\n",
       "      <th>5</th>\n",
       "      <td>15877276</td>\n",
       "      <td>FE-013145-06</td>\n",
       "      <td>2022-12-31</td>\n",
       "      <td>2023-04-10</td>\n",
       "      <td>-41</td>\n",
       "      <td>260000</td>\n",
       "      <td>0</td>\n",
       "      <td>0</td>\n",
       "      <td>0</td>\n",
       "      <td>0</td>\n",
       "      <td>520000</td>\n",
       "      <td>feb 2023</td>\n",
       "      <td>2023-02-28</td>\n",
       "      <td>0</td>\n",
       "      <td>59</td>\n",
       "      <td>50.0</td>\n",
       "    </tr>\n",
       "    <tr>\n",
       "      <th>8</th>\n",
       "      <td>41061479</td>\n",
       "      <td>FE-010474-12</td>\n",
       "      <td>2022-12-31</td>\n",
       "      <td>2023-04-27</td>\n",
       "      <td>-58</td>\n",
       "      <td>351000</td>\n",
       "      <td>0</td>\n",
       "      <td>0</td>\n",
       "      <td>0</td>\n",
       "      <td>0</td>\n",
       "      <td>702000</td>\n",
       "      <td>feb 2023</td>\n",
       "      <td>2023-02-28</td>\n",
       "      <td>0</td>\n",
       "      <td>59</td>\n",
       "      <td>50.0</td>\n",
       "    </tr>\n",
       "    <tr>\n",
       "      <th>11</th>\n",
       "      <td>40150589</td>\n",
       "      <td>CR-018472-06</td>\n",
       "      <td>2017-10-30</td>\n",
       "      <td>2018-05-02</td>\n",
       "      <td>1763</td>\n",
       "      <td>0</td>\n",
       "      <td>0</td>\n",
       "      <td>0</td>\n",
       "      <td>0</td>\n",
       "      <td>169000</td>\n",
       "      <td>280000</td>\n",
       "      <td>feb 2023</td>\n",
       "      <td>2023-02-28</td>\n",
       "      <td>0</td>\n",
       "      <td>1947</td>\n",
       "      <td>100.0</td>\n",
       "    </tr>\n",
       "  </tbody>\n",
       "</table>\n",
       "</div>"
      ],
      "text/plain": [
       "        codigo     documento    fec_ela   fec_vcto  dias_vcto  sin_vencer  \\\n",
       "0    900692604  FC-003657-01 2019-08-28 2020-02-28       1096           0   \n",
       "2   1121214895  FE-012956-06 2022-12-31 2023-03-28        -28      201000   \n",
       "5     15877276  FE-013145-06 2022-12-31 2023-04-10        -41      260000   \n",
       "8     41061479  FE-010474-12 2022-12-31 2023-04-27        -58      351000   \n",
       "11    40150589  CR-018472-06 2017-10-30 2018-05-02       1763           0   \n",
       "\n",
       "    _01_30  _31_60  _61_90  mas_de_90    total   mes_año fecha_completa  \\\n",
       "0        0       0       0    2128950  2128950  feb 2023     2023-02-28   \n",
       "2        0       0       0          0   201000  feb 2023     2023-02-28   \n",
       "5        0       0       0          0   520000  feb 2023     2023-02-28   \n",
       "8        0       0       0          0   702000  feb 2023     2023-02-28   \n",
       "11       0       0       0     169000   280000  feb 2023     2023-02-28   \n",
       "\n",
       "    val_fec  Edad_obligacion  %_vencido  \n",
       "0         0             1280      100.0  \n",
       "2         0               59        0.0  \n",
       "5         0               59       50.0  \n",
       "8         0               59       50.0  \n",
       "11        0             1947      100.0  "
      ]
     },
     "execution_count": 20,
     "metadata": {},
     "output_type": "execute_result"
    }
   ],
   "source": [
    "# Variables sinteticas\n",
    "df['Edad_obligacion'] = (df['fecha_completa'] - df['fec_ela']).dt.days\n",
    "df['%_vencido'] = (df['total'] - df['sin_vencer']) / df['total'] * 100\n",
    "\n",
    "df = df.loc[df['total'] > 0]\n",
    "\n",
    "df.head(5)"
   ]
  },
  {
   "cell_type": "code",
   "execution_count": 34,
   "metadata": {},
   "outputs": [
    {
     "data": {
      "text/plain": [
       "count        5751.00\n",
       "mean        57760.42\n",
       "std        754400.81\n",
       "min       -485000.00\n",
       "25%             0.00\n",
       "50%             0.00\n",
       "75%             0.00\n",
       "max      35860500.00\n",
       "Name: _01_30, dtype: float64"
      ]
     },
     "execution_count": 34,
     "metadata": {},
     "output_type": "execute_result"
    }
   ],
   "source": [
    "df['_01_30'].describe().round(2)"
   ]
  },
  {
   "cell_type": "code",
   "execution_count": 36,
   "metadata": {},
   "outputs": [
    {
     "data": {
      "text/html": [
       "<div>\n",
       "<style scoped>\n",
       "    .dataframe tbody tr th:only-of-type {\n",
       "        vertical-align: middle;\n",
       "    }\n",
       "\n",
       "    .dataframe tbody tr th {\n",
       "        vertical-align: top;\n",
       "    }\n",
       "\n",
       "    .dataframe thead th {\n",
       "        text-align: right;\n",
       "    }\n",
       "</style>\n",
       "<table border=\"1\" class=\"dataframe\">\n",
       "  <thead>\n",
       "    <tr style=\"text-align: right;\">\n",
       "      <th></th>\n",
       "      <th>codigo</th>\n",
       "      <th>documento</th>\n",
       "      <th>fec_ela</th>\n",
       "      <th>fec_vcto</th>\n",
       "      <th>dias_vcto</th>\n",
       "      <th>sin_vencer</th>\n",
       "      <th>_01_30</th>\n",
       "      <th>_31_60</th>\n",
       "      <th>_61_90</th>\n",
       "      <th>mas_de_90</th>\n",
       "      <th>total</th>\n",
       "      <th>mes_año</th>\n",
       "      <th>fecha_completa</th>\n",
       "      <th>val_fec</th>\n",
       "      <th>Edad_obligacion</th>\n",
       "      <th>%_vencido</th>\n",
       "    </tr>\n",
       "  </thead>\n",
       "  <tbody>\n",
       "    <tr>\n",
       "      <th>0</th>\n",
       "      <td>900692604</td>\n",
       "      <td>FC-003657-01</td>\n",
       "      <td>2019-08-28</td>\n",
       "      <td>2020-02-28</td>\n",
       "      <td>1096</td>\n",
       "      <td>0</td>\n",
       "      <td>0</td>\n",
       "      <td>0</td>\n",
       "      <td>0</td>\n",
       "      <td>2128950</td>\n",
       "      <td>2128950</td>\n",
       "      <td>feb 2023</td>\n",
       "      <td>2023-02-28</td>\n",
       "      <td>0</td>\n",
       "      <td>1280</td>\n",
       "      <td>100.0</td>\n",
       "    </tr>\n",
       "    <tr>\n",
       "      <th>2</th>\n",
       "      <td>1121214895</td>\n",
       "      <td>FE-012956-06</td>\n",
       "      <td>2022-12-31</td>\n",
       "      <td>2023-03-28</td>\n",
       "      <td>-28</td>\n",
       "      <td>201000</td>\n",
       "      <td>0</td>\n",
       "      <td>0</td>\n",
       "      <td>0</td>\n",
       "      <td>0</td>\n",
       "      <td>201000</td>\n",
       "      <td>feb 2023</td>\n",
       "      <td>2023-02-28</td>\n",
       "      <td>0</td>\n",
       "      <td>59</td>\n",
       "      <td>0.0</td>\n",
       "    </tr>\n",
       "    <tr>\n",
       "      <th>5</th>\n",
       "      <td>15877276</td>\n",
       "      <td>FE-013145-06</td>\n",
       "      <td>2022-12-31</td>\n",
       "      <td>2023-04-10</td>\n",
       "      <td>-41</td>\n",
       "      <td>260000</td>\n",
       "      <td>0</td>\n",
       "      <td>0</td>\n",
       "      <td>0</td>\n",
       "      <td>0</td>\n",
       "      <td>520000</td>\n",
       "      <td>feb 2023</td>\n",
       "      <td>2023-02-28</td>\n",
       "      <td>0</td>\n",
       "      <td>59</td>\n",
       "      <td>50.0</td>\n",
       "    </tr>\n",
       "    <tr>\n",
       "      <th>8</th>\n",
       "      <td>41061479</td>\n",
       "      <td>FE-010474-12</td>\n",
       "      <td>2022-12-31</td>\n",
       "      <td>2023-04-27</td>\n",
       "      <td>-58</td>\n",
       "      <td>351000</td>\n",
       "      <td>0</td>\n",
       "      <td>0</td>\n",
       "      <td>0</td>\n",
       "      <td>0</td>\n",
       "      <td>702000</td>\n",
       "      <td>feb 2023</td>\n",
       "      <td>2023-02-28</td>\n",
       "      <td>0</td>\n",
       "      <td>59</td>\n",
       "      <td>50.0</td>\n",
       "    </tr>\n",
       "    <tr>\n",
       "      <th>11</th>\n",
       "      <td>40150589</td>\n",
       "      <td>CR-018472-06</td>\n",
       "      <td>2017-10-30</td>\n",
       "      <td>2018-05-02</td>\n",
       "      <td>1763</td>\n",
       "      <td>0</td>\n",
       "      <td>0</td>\n",
       "      <td>0</td>\n",
       "      <td>0</td>\n",
       "      <td>169000</td>\n",
       "      <td>280000</td>\n",
       "      <td>feb 2023</td>\n",
       "      <td>2023-02-28</td>\n",
       "      <td>0</td>\n",
       "      <td>1947</td>\n",
       "      <td>100.0</td>\n",
       "    </tr>\n",
       "    <tr>\n",
       "      <th>...</th>\n",
       "      <td>...</td>\n",
       "      <td>...</td>\n",
       "      <td>...</td>\n",
       "      <td>...</td>\n",
       "      <td>...</td>\n",
       "      <td>...</td>\n",
       "      <td>...</td>\n",
       "      <td>...</td>\n",
       "      <td>...</td>\n",
       "      <td>...</td>\n",
       "      <td>...</td>\n",
       "      <td>...</td>\n",
       "      <td>...</td>\n",
       "      <td>...</td>\n",
       "      <td>...</td>\n",
       "      <td>...</td>\n",
       "    </tr>\n",
       "    <tr>\n",
       "      <th>29784</th>\n",
       "      <td>15879647</td>\n",
       "      <td>FE-018571-06</td>\n",
       "      <td>2023-08-31</td>\n",
       "      <td>2024-03-01</td>\n",
       "      <td>-61</td>\n",
       "      <td>230000</td>\n",
       "      <td>0</td>\n",
       "      <td>0</td>\n",
       "      <td>0</td>\n",
       "      <td>0</td>\n",
       "      <td>460000</td>\n",
       "      <td>dec 2023</td>\n",
       "      <td>2023-12-31</td>\n",
       "      <td>0</td>\n",
       "      <td>122</td>\n",
       "      <td>50.0</td>\n",
       "    </tr>\n",
       "    <tr>\n",
       "      <th>29790</th>\n",
       "      <td>1121201338</td>\n",
       "      <td>FE-020055-06</td>\n",
       "      <td>2023-12-04</td>\n",
       "      <td>2024-06-02</td>\n",
       "      <td>-154</td>\n",
       "      <td>211000</td>\n",
       "      <td>0</td>\n",
       "      <td>0</td>\n",
       "      <td>0</td>\n",
       "      <td>0</td>\n",
       "      <td>1055000</td>\n",
       "      <td>dec 2023</td>\n",
       "      <td>2023-12-31</td>\n",
       "      <td>0</td>\n",
       "      <td>27</td>\n",
       "      <td>80.0</td>\n",
       "    </tr>\n",
       "    <tr>\n",
       "      <th>29792</th>\n",
       "      <td>830010181</td>\n",
       "      <td>FE-017467-00</td>\n",
       "      <td>2023-06-29</td>\n",
       "      <td>2023-07-29</td>\n",
       "      <td>155</td>\n",
       "      <td>0</td>\n",
       "      <td>0</td>\n",
       "      <td>0</td>\n",
       "      <td>0</td>\n",
       "      <td>46288</td>\n",
       "      <td>46288</td>\n",
       "      <td>dec 2023</td>\n",
       "      <td>2023-12-31</td>\n",
       "      <td>0</td>\n",
       "      <td>185</td>\n",
       "      <td>100.0</td>\n",
       "    </tr>\n",
       "    <tr>\n",
       "      <th>29795</th>\n",
       "      <td>41058861</td>\n",
       "      <td>FE-018488-06</td>\n",
       "      <td>2023-08-25</td>\n",
       "      <td>2024-03-01</td>\n",
       "      <td>-61</td>\n",
       "      <td>214000</td>\n",
       "      <td>0</td>\n",
       "      <td>0</td>\n",
       "      <td>0</td>\n",
       "      <td>0</td>\n",
       "      <td>428000</td>\n",
       "      <td>dec 2023</td>\n",
       "      <td>2023-12-31</td>\n",
       "      <td>0</td>\n",
       "      <td>128</td>\n",
       "      <td>50.0</td>\n",
       "    </tr>\n",
       "    <tr>\n",
       "      <th>29797</th>\n",
       "      <td>1088321782</td>\n",
       "      <td>FE-017856-06</td>\n",
       "      <td>2023-07-19</td>\n",
       "      <td>2024-01-19</td>\n",
       "      <td>-19</td>\n",
       "      <td>237000</td>\n",
       "      <td>0</td>\n",
       "      <td>0</td>\n",
       "      <td>0</td>\n",
       "      <td>0</td>\n",
       "      <td>237000</td>\n",
       "      <td>dec 2023</td>\n",
       "      <td>2023-12-31</td>\n",
       "      <td>0</td>\n",
       "      <td>165</td>\n",
       "      <td>0.0</td>\n",
       "    </tr>\n",
       "  </tbody>\n",
       "</table>\n",
       "<p>5710 rows × 16 columns</p>\n",
       "</div>"
      ],
      "text/plain": [
       "           codigo     documento    fec_ela   fec_vcto  dias_vcto  sin_vencer  \\\n",
       "0       900692604  FC-003657-01 2019-08-28 2020-02-28       1096           0   \n",
       "2      1121214895  FE-012956-06 2022-12-31 2023-03-28        -28      201000   \n",
       "5        15877276  FE-013145-06 2022-12-31 2023-04-10        -41      260000   \n",
       "8        41061479  FE-010474-12 2022-12-31 2023-04-27        -58      351000   \n",
       "11       40150589  CR-018472-06 2017-10-30 2018-05-02       1763           0   \n",
       "...           ...           ...        ...        ...        ...         ...   \n",
       "29784    15879647  FE-018571-06 2023-08-31 2024-03-01        -61      230000   \n",
       "29790  1121201338  FE-020055-06 2023-12-04 2024-06-02       -154      211000   \n",
       "29792   830010181  FE-017467-00 2023-06-29 2023-07-29        155           0   \n",
       "29795    41058861  FE-018488-06 2023-08-25 2024-03-01        -61      214000   \n",
       "29797  1088321782  FE-017856-06 2023-07-19 2024-01-19        -19      237000   \n",
       "\n",
       "       _01_30  _31_60  _61_90  mas_de_90    total   mes_año fecha_completa  \\\n",
       "0           0       0       0    2128950  2128950  feb 2023     2023-02-28   \n",
       "2           0       0       0          0   201000  feb 2023     2023-02-28   \n",
       "5           0       0       0          0   520000  feb 2023     2023-02-28   \n",
       "8           0       0       0          0   702000  feb 2023     2023-02-28   \n",
       "11          0       0       0     169000   280000  feb 2023     2023-02-28   \n",
       "...       ...     ...     ...        ...      ...       ...            ...   \n",
       "29784       0       0       0          0   460000  dec 2023     2023-12-31   \n",
       "29790       0       0       0          0  1055000  dec 2023     2023-12-31   \n",
       "29792       0       0       0      46288    46288  dec 2023     2023-12-31   \n",
       "29795       0       0       0          0   428000  dec 2023     2023-12-31   \n",
       "29797       0       0       0          0   237000  dec 2023     2023-12-31   \n",
       "\n",
       "       val_fec  Edad_obligacion  %_vencido  \n",
       "0            0             1280      100.0  \n",
       "2            0               59        0.0  \n",
       "5            0               59       50.0  \n",
       "8            0               59       50.0  \n",
       "11           0             1947      100.0  \n",
       "...        ...              ...        ...  \n",
       "29784        0              122       50.0  \n",
       "29790        0               27       80.0  \n",
       "29792        0              185      100.0  \n",
       "29795        0              128       50.0  \n",
       "29797        0              165        0.0  \n",
       "\n",
       "[5710 rows x 16 columns]"
      ]
     },
     "execution_count": 36,
     "metadata": {},
     "output_type": "execute_result"
    }
   ],
   "source": [
    "#No deben existir negativos, se procede a eliminar estos registros\n",
    "# Filtering the DataFrame to keep rows where all values in the specified columns are >= 0\n",
    "df_filtered_all = df[(df['_01_30'] >= 0) & (df['_31_60'] >= 0) & (df['_61_90'] >= 0) & (df['mas_de_90'] >= 0)]\n",
    "\n",
    "df_filtered_all"
   ]
  },
  {
   "cell_type": "markdown",
   "metadata": {},
   "source": [
    "Verificamos porque no pueden existir  valores en la edad de la cartera negativo. Al realizar el análisis posteriormente, se encuentra la presencia de valores negativos, por tanto se limpia la base."
   ]
  },
  {
   "cell_type": "code",
   "execution_count": 37,
   "metadata": {},
   "outputs": [
    {
     "data": {
      "text/html": [
       "<div>\n",
       "<style scoped>\n",
       "    .dataframe tbody tr th:only-of-type {\n",
       "        vertical-align: middle;\n",
       "    }\n",
       "\n",
       "    .dataframe tbody tr th {\n",
       "        vertical-align: top;\n",
       "    }\n",
       "\n",
       "    .dataframe thead th {\n",
       "        text-align: right;\n",
       "    }\n",
       "</style>\n",
       "<table border=\"1\" class=\"dataframe\">\n",
       "  <thead>\n",
       "    <tr style=\"text-align: right;\">\n",
       "      <th></th>\n",
       "      <th>codigo</th>\n",
       "      <th>documento</th>\n",
       "      <th>fec_ela</th>\n",
       "      <th>fec_vcto</th>\n",
       "      <th>dias_vcto</th>\n",
       "      <th>sin_vencer</th>\n",
       "      <th>_01_30</th>\n",
       "      <th>_31_60</th>\n",
       "      <th>_61_90</th>\n",
       "      <th>mas_de_90</th>\n",
       "      <th>total</th>\n",
       "      <th>mes_año</th>\n",
       "      <th>fecha_completa</th>\n",
       "      <th>val_fec</th>\n",
       "      <th>Edad_obligacion</th>\n",
       "      <th>%_vencido</th>\n",
       "    </tr>\n",
       "  </thead>\n",
       "  <tbody>\n",
       "  </tbody>\n",
       "</table>\n",
       "</div>"
      ],
      "text/plain": [
       "Empty DataFrame\n",
       "Columns: [codigo, documento, fec_ela, fec_vcto, dias_vcto, sin_vencer, _01_30, _31_60, _61_90, mas_de_90, total, mes_año, fecha_completa, val_fec, Edad_obligacion, %_vencido]\n",
       "Index: []"
      ]
     },
     "execution_count": 37,
     "metadata": {},
     "output_type": "execute_result"
    }
   ],
   "source": [
    "#Verifico que no existan valores negativos en estas 4 columnas\n",
    "# Verificar si hay valores negativos en las columnas especificadas\n",
    "negative_values = df_filtered_all[(df_filtered_all['_01_30'] < 0) |\n",
    "                                  (df_filtered_all['_31_60'] < 0) |\n",
    "                                  (df_filtered_all['_61_90'] < 0) |\n",
    "                                  (df_filtered_all['mas_de_90'] < 0)]\n",
    "\n",
    "# Mostrar el resultado\n",
    "negative_values"
   ]
  },
  {
   "cell_type": "code",
   "execution_count": 38,
   "metadata": {},
   "outputs": [
    {
     "name": "stdout",
     "output_type": "stream",
     "text": [
      "<class 'pandas.core.frame.DataFrame'>\n",
      "Int64Index: 5710 entries, 0 to 29797\n",
      "Data columns (total 16 columns):\n",
      " #   Column           Non-Null Count  Dtype         \n",
      "---  ------           --------------  -----         \n",
      " 0   codigo           5710 non-null   object        \n",
      " 1   documento        5710 non-null   object        \n",
      " 2   fec_ela          5710 non-null   datetime64[ns]\n",
      " 3   fec_vcto         5710 non-null   datetime64[ns]\n",
      " 4   dias_vcto        5710 non-null   int64         \n",
      " 5   sin_vencer       5710 non-null   int64         \n",
      " 6   _01_30           5710 non-null   int64         \n",
      " 7   _31_60           5710 non-null   int64         \n",
      " 8   _61_90           5710 non-null   int64         \n",
      " 9   mas_de_90        5710 non-null   int64         \n",
      " 10  total            5710 non-null   int64         \n",
      " 11  mes_año          5710 non-null   object        \n",
      " 12  fecha_completa   5710 non-null   datetime64[ns]\n",
      " 13  val_fec          5710 non-null   int32         \n",
      " 14  Edad_obligacion  5710 non-null   int64         \n",
      " 15  %_vencido        5710 non-null   float64       \n",
      "dtypes: datetime64[ns](3), float64(1), int32(1), int64(8), object(3)\n",
      "memory usage: 736.1+ KB\n"
     ]
    }
   ],
   "source": [
    "df_filtered_all.info()"
   ]
  },
  {
   "cell_type": "markdown",
   "metadata": {},
   "source": [
    "Durante la preparación de datos, se abordaron inconsistencias derivadas de la falta de un gobierno de datos en la empresa. Se corrigieron tipos de datos y formatos de fecha, se crearon variables sintéticas y se imputaron fechas de elaboración utilizando la media del intervalo entre la fecha de elaboración y la de vencimiento (tiene mucho sentido, dice que los préstamos en general se sacan aproximadamente por 6 meses). En el análisis exploratorio, se identificaron valores negativos en la edad de la cartera. Por tanto, se iteró sobre el proceso de preparación para limpiarlo y realizar nuevamente la exploración con datos más robustos y confiables."
   ]
  }
 ],
 "metadata": {
  "kernelspec": {
   "display_name": "base",
   "language": "python",
   "name": "python3"
  },
  "language_info": {
   "codemirror_mode": {
    "name": "ipython",
    "version": 3
   },
   "file_extension": ".py",
   "mimetype": "text/x-python",
   "name": "python",
   "nbconvert_exporter": "python",
   "pygments_lexer": "ipython3",
   "version": "3.9.13"
  }
 },
 "nbformat": 4,
 "nbformat_minor": 2
}
